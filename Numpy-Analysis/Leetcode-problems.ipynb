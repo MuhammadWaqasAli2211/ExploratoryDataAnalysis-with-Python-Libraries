{
 "cells": [
  {
   "cell_type": "markdown",
   "metadata": {},
   "source": [
    "Q# 01: Find the index of the first occurance in a string - LeetCode"
   ]
  },
  {
   "cell_type": "code",
   "execution_count": 13,
   "metadata": {},
   "outputs": [
    {
     "name": "stdout",
     "output_type": "stream",
     "text": [
      "This is a test string\n",
      "Substring 'xyz' not found.\n"
     ]
    }
   ],
   "source": [
    "originalString = \"This is a test string\"\n",
    "print(originalString)\n",
    "subString = input(\"Enter the Targeted String: \")\n",
    "\n",
    "index = originalString.find(subString)\n",
    "\n",
    "if index != -1:\n",
    "    print(f\"Substring '{subString}' found at index: {index}\")\n",
    "else:\n",
    "    print(f\"Substring '{subString}' not found.\")"
   ]
  },
  {
   "cell_type": "markdown",
   "metadata": {},
   "source": [
    "Q# 02: How to get the common item between two python numpy array?\n",
    "\n",
    "Q# 03: How to get the positions where elements of two array match?"
   ]
  },
  {
   "cell_type": "code",
   "execution_count": 14,
   "metadata": {},
   "outputs": [
    {
     "name": "stdout",
     "output_type": "stream",
     "text": [
      "Common Elements are: [10, 40] Found at index: [0, 3] respectively.\n"
     ]
    }
   ],
   "source": [
    "import numpy as np\n",
    "\n",
    "arr1 = np.array([10, 20, 30, 40, 50])\n",
    "arr2 = np.array([10, 30, 20, 40, 60])\n",
    "\n",
    "commonElementsIndex = []\n",
    "commonElements = []\n",
    "\n",
    "for x in range(len(arr1)):\n",
    "    if arr1[x] == arr2[x]:\n",
    "        commonElements.append(int(arr1[x]))\n",
    "        commonElementsIndex.append(x)\n",
    "\n",
    "print(\"Common Elements are:\",commonElements ,\"Found at index:\",commonElementsIndex,\"respectively.\")"
   ]
  },
  {
   "cell_type": "markdown",
   "metadata": {},
   "source": [
    "Q# 04: How to extract all numbers between a given range from a numpy array?"
   ]
  },
  {
   "cell_type": "code",
   "execution_count": 15,
   "metadata": {},
   "outputs": [
    {
     "name": "stdout",
     "output_type": "stream",
     "text": [
      "Given array:- [10 20 30 40 50 60]\n",
      "The Extracted Value form 20 to 50 is [20, 30, 40, 50]\n"
     ]
    }
   ],
   "source": [
    "import numpy as np\n",
    "\n",
    "array = np.array([10, 20, 30, 40, 50, 60])\n",
    "\n",
    "print(f\"Given array:- {array}\")\n",
    "\n",
    "startingValue = int(input(\"Enter start of the Range: \"))\n",
    "endingValue = int(input(\"Enter End of the Range: \"))\n",
    "\n",
    "extractedValue = []\n",
    "\n",
    "if (startingValue in array) & (endingValue in array):\n",
    "    for x in array:\n",
    "        if (x >= startingValue) & (x <= endingValue):\n",
    "            extractedValue.append(int(x))\n",
    "    print(f\"The Extracted Value form {startingValue} to {endingValue} is {extractedValue}\")\n",
    "else:\n",
    "    if (startingValue not in array) & (endingValue not in array):\n",
    "        print(\"Error! Both Starting & Ending Value is not in in the given array\")\n",
    "    \n",
    "    elif (startingValue not in array):\n",
    "        print(\"Error! Starting Value is not in the given array.\")\n",
    "    \n",
    "    elif (endingValue not in array):\n",
    "        print(\"Error! Ending Value is not in the given array.\")\n"
   ]
  }
 ],
 "metadata": {
  "kernelspec": {
   "display_name": "Python 3",
   "language": "python",
   "name": "python3"
  },
  "language_info": {
   "codemirror_mode": {
    "name": "ipython",
    "version": 3
   },
   "file_extension": ".py",
   "mimetype": "text/x-python",
   "name": "python",
   "nbconvert_exporter": "python",
   "pygments_lexer": "ipython3",
   "version": "3.13.0"
  }
 },
 "nbformat": 4,
 "nbformat_minor": 2
}
